{
  "nbformat": 4,
  "nbformat_minor": 0,
  "metadata": {
    "colab": {
      "name": "Untitled0.ipynb",
      "provenance": [],
      "authorship_tag": "ABX9TyOlfHQhkQqToEFoxkFLc9g4",
      "include_colab_link": true
    },
    "kernelspec": {
      "name": "python3",
      "display_name": "Python 3"
    },
    "language_info": {
      "name": "python"
    }
  },
  "cells": [
    {
      "cell_type": "markdown",
      "metadata": {
        "id": "view-in-github",
        "colab_type": "text"
      },
      "source": [
        "<a href=\"https://colab.research.google.com/github/nasaldrops/n1/blob/master/phpmysqlconnection.ipynb\" target=\"_parent\"><img src=\"https://colab.research.google.com/assets/colab-badge.svg\" alt=\"Open In Colab\"/></a>"
      ]
    },
    {
      "cell_type": "code",
      "metadata": {
        "colab": {
          "base_uri": "https://localhost:8080/"
        },
        "id": "r1LgWJ06Y76H",
        "outputId": "39bd1d18-7b09-4d14-dbe2-d4ac982cfe8d"
      },
      "source": [
        "!pip install mysql.connector"
      ],
      "execution_count": 5,
      "outputs": [
        {
          "output_type": "stream",
          "text": [
            "Collecting mysql.connector\n",
            "\u001b[?25l  Downloading https://files.pythonhosted.org/packages/28/04/e40098f3730e75bbe36a338926f566ea803550a34fb50535499f4fc4787a/mysql-connector-2.2.9.tar.gz (11.9MB)\n",
            "\u001b[K     |████████████████████████████████| 11.9MB 251kB/s \n",
            "\u001b[?25hBuilding wheels for collected packages: mysql.connector\n",
            "  Building wheel for mysql.connector (setup.py) ... \u001b[?25l\u001b[?25hdone\n",
            "  Created wheel for mysql.connector: filename=mysql_connector-2.2.9-cp37-cp37m-linux_x86_64.whl size=247965 sha256=63c254d0d25c119d07f5a9b1ac943e8879fc650f05ffbad2004c4ff95a95be2a\n",
            "  Stored in directory: /root/.cache/pip/wheels/8c/83/a1/f8b6d4bb1bd6208bbde1608bbfa7557504bed9eaf2ecf8c175\n",
            "Successfully built mysql.connector\n",
            "Installing collected packages: mysql.connector\n",
            "Successfully installed mysql.connector\n"
          ],
          "name": "stdout"
        }
      ]
    },
    {
      "cell_type": "code",
      "metadata": {
        "id": "RZ835bR3582k",
        "colab": {
          "base_uri": "https://localhost:8080/"
        },
        "outputId": "ac5b8e67-bcf0-4c42-8b32-b3cc9deb3967"
      },
      "source": [
        "import mysql.connector\n",
        "\n",
        "cnx = mysql.connector.connect(user='eirtime_*****', password='********',\n",
        "                              host='***.227.153.52',\n",
        "                              database='eirtime_*****')\n",
        "\n",
        "cursor = cnx.cursor()\n",
        "\n",
        "query = (\"SELECT SYMBOL, OPEN, CLOSE, DIFFERENCE FROM RESULTS \"\n",
        "         \"WHERE OPEN > 0 ORDER BY CLOSE ASC\")\n",
        "\n",
        "\n",
        "cursor.execute(query)\n",
        "\n",
        "for (SYMBOL, OPEN, CLOSE, DIFFERENCE) in cursor:\n",
        "  print(\"{}, {}, {}\".format(\n",
        "    SYMBOL, OPEN, CLOSE, DIFFERENCE))\n",
        "\n",
        "cursor.close()\n",
        "cnx.close()"
      ],
      "execution_count": 6,
      "outputs": [
        {
          "output_type": "stream",
          "text": [
            "FUTURES, 14.75, 0.0\n",
            "FUTURES, 4.95, 0.0\n",
            "LMND, 103.08, 101.89\n",
            "LMND, 102.11, 102.81\n",
            "CRSP, 126.84, 129.62\n",
            "BYND, 147.3, 147.82\n",
            "FUTU, 154.34, 148.09\n",
            "PXD, 161.22, 162.22\n",
            "GD, 190.31, 189.56\n",
            "MRNA, 210.76, 221.36\n",
            "BNTX, 228.25, 236.49\n",
            "BA, 244.5, 243.78\n",
            "GOOGL, 2435.0, 2446.61\n",
            "SPCE, 36.27, 36.02\n",
            "ROKU, 365.05, 382.73\n",
            "SPCE, 35.82, 39.42\n",
            "COST, 387.02, 392.18\n",
            "ILMN, 458.84, 461.05\n",
            "SNAP, 63.62, 62.93\n",
            "EOG, 84.94, 84.95\n",
            "HES, 89.88, 88.62\n"
          ],
          "name": "stdout"
        }
      ]
    },
    {
      "cell_type": "code",
      "metadata": {
        "id": "63UXzN5KMAE5"
      },
      "source": [
        ""
      ],
      "execution_count": null,
      "outputs": []
    },
    {
      "cell_type": "code",
      "metadata": {
        "id": "ESMqaTXHZdJv"
      },
      "source": [
        ""
      ],
      "execution_count": null,
      "outputs": []
    }
  ]
}